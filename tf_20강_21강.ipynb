{
  "nbformat": 4,
  "nbformat_minor": 0,
  "metadata": {
    "colab": {
      "name": "tf_20강_21강.ipynb",
      "provenance": [],
      "collapsed_sections": [],
      "toc_visible": true
    },
    "kernelspec": {
      "name": "python3",
      "display_name": "Python 3"
    }
  },
  "cells": [
    {
      "cell_type": "markdown",
      "metadata": {
        "id": "r63jq7aUFzvx"
      },
      "source": [
        "# 20강\r\n",
        "- Correalation in Deap learning\r\n",
        "- weighted sum\r\n",
        "- filter의 각 cell마다 corr -> 학습한 filter와 input이 얼마나 유사한지에 대한 정보"
      ]
    },
    {
      "cell_type": "markdown",
      "metadata": {
        "id": "RUaglWrBIyC1"
      },
      "source": [
        "# 21강\r\n",
        "- Conv and Pooling Layer"
      ]
    },
    {
      "cell_type": "code",
      "metadata": {
        "colab": {
          "base_uri": "https://localhost:8080/"
        },
        "id": "ERe2RfUiFVG3",
        "outputId": "bbb6b395-99c0-48f5-8055-17b60f9dc058"
      },
      "source": [
        "import tensorflow as tf\r\n",
        "import numpy as np\r\n",
        "\r\n",
        "from tensorflow.keras.layers import Conv2D, MaxPooling2D\r\n",
        "\r\n",
        "conv = Conv2D(filters = 8, kernel_size = 3, padding ='valid', strides=1, activation = 'relu')\r\n",
        "pool = MaxPooling2D(pool_size = 2, strides= 2)\r\n",
        "\r\n",
        "image = tf.random.normal(mean=0, stddev=1, shape=(1, 28, 28, 3))\r\n",
        "print(image.shape)\r\n",
        "conved = conv(image)\r\n",
        "print(conved.shape)\r\n",
        "\r\n",
        "print(\"W: \", conv.get_weights()[0].shape) # 3 by 3 filter, 앞에 있는 channel이 1, 8개의 filter\r\n",
        "print(\"b: \", conv.get_weights()[1].shape) # bias의 개수 = 뉴런의 개수\r\n",
        "\r\n",
        "pooled = pool(conved) # overlapping이 안되는 2 by 2 max_pooling\r\n",
        "print(pooled.shape) # (26 + 0 - 2) / 2 + 1 = 13"
      ],
      "execution_count": 9,
      "outputs": [
        {
          "output_type": "stream",
          "text": [
            "(1, 28, 28, 3)\n",
            "(1, 26, 26, 8)\n",
            "W:  (3, 3, 3, 8)\n",
            "b:  (8,)\n",
            "(1, 13, 13, 8)\n"
          ],
          "name": "stdout"
        }
      ]
    },
    {
      "cell_type": "code",
      "metadata": {
        "colab": {
          "base_uri": "https://localhost:8080/"
        },
        "id": "ds7Kpqx3Mj0p",
        "outputId": "d7b13bb7-91cd-462a-af01-762ba6584964"
      },
      "source": [
        "conv1 = Conv2D(filters = 8, kernel_size = 3, padding ='valid', strides=1, activation = 'relu')\r\n",
        "pool1 = MaxPooling2D(pool_size = 2, strides= 2)\r\n",
        "\r\n",
        "conv2 = Conv2D(filters = 16, kernel_size = 3, padding ='valid', strides=1, activation = 'relu')\r\n",
        "pool2 = MaxPooling2D(pool_size = 2, strides= 2)\r\n",
        "\r\n",
        "conv3 = Conv2D(filters = 32, kernel_size = 3, padding ='valid', strides=1, activation = 'relu')\r\n",
        "pool3 = MaxPooling2D(pool_size = 2, strides= 2)\r\n",
        "\r\n",
        "print(image.shape)\r\n",
        "conved = conv1(image)\r\n",
        "print(conved.shape)\r\n",
        "pooled = pool1(conved)\r\n",
        "print(pooled.shape)\r\n",
        "\r\n",
        "conved = conv2(pooled)\r\n",
        "print(conved.shape)\r\n",
        "pooled = pool2(conved)\r\n",
        "print(pooled.shape)\r\n",
        "\r\n",
        "conved = conv3(pooled)\r\n",
        "print(conved.shape)\r\n",
        "pooled = pool3(conved)\r\n",
        "print(pooled.shape)"
      ],
      "execution_count": 11,
      "outputs": [
        {
          "output_type": "stream",
          "text": [
            "(1, 28, 28, 3)\n",
            "(1, 26, 26, 8)\n",
            "(1, 13, 13, 8)\n",
            "(1, 11, 11, 16)\n",
            "(1, 5, 5, 16)\n",
            "(1, 3, 3, 32)\n",
            "(1, 1, 1, 32)\n"
          ],
          "name": "stdout"
        }
      ]
    },
    {
      "cell_type": "code",
      "metadata": {
        "colab": {
          "base_uri": "https://localhost:8080/"
        },
        "id": "kuEb9UJ0NZ68",
        "outputId": "bad7ac0f-156d-48cd-8127-d08bf609a044"
      },
      "source": [
        "from tensorflow.keras.models import Sequential\r\n",
        "\r\n",
        "model = Sequential()\r\n",
        "model.add(Conv2D(filters = 8, kernel_size = 3, padding ='valid', strides=1, activation = 'relu'))\r\n",
        "model.add(MaxPooling2D(pool_size = 2, strides= 2))\r\n",
        "\r\n",
        "model.build(input_shape = (None, 28, 28, 1))\r\n",
        "model.summary()"
      ],
      "execution_count": 12,
      "outputs": [
        {
          "output_type": "stream",
          "text": [
            "Model: \"sequential\"\n",
            "_________________________________________________________________\n",
            "Layer (type)                 Output Shape              Param #   \n",
            "=================================================================\n",
            "conv2d_12 (Conv2D)           (None, 26, 26, 8)         80        \n",
            "_________________________________________________________________\n",
            "max_pooling2d_12 (MaxPooling (None, 13, 13, 8)         0         \n",
            "=================================================================\n",
            "Total params: 80\n",
            "Trainable params: 80\n",
            "Non-trainable params: 0\n",
            "_________________________________________________________________\n"
          ],
          "name": "stdout"
        }
      ]
    },
    {
      "cell_type": "code",
      "metadata": {
        "id": "BvTdyK3mNMdK"
      },
      "source": [
        ""
      ],
      "execution_count": null,
      "outputs": []
    }
  ]
}